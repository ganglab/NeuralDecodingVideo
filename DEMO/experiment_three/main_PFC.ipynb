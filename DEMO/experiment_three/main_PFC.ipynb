{
 "cells": [
  {
   "cell_type": "code",
   "execution_count": 11,
   "metadata": {},
   "outputs": [],
   "source": [
    "import torch\n",
    "import numpy as np\n",
    "import imageio\n",
    "from Model.VideoUNet import VideoUNet"
   ]
  },
  {
   "cell_type": "code",
   "execution_count": 12,
   "metadata": {},
   "outputs": [],
   "source": [
    "device=torch.device(\"cuda:0\" if torch.cuda.is_available() else \"cpu\")"
   ]
  },
  {
   "cell_type": "code",
   "execution_count": 13,
   "metadata": {},
   "outputs": [],
   "source": [
    "all_reigion = {\n",
    "            \"PFC\": (0, 30),  \n",
    "            \"FEF\": (30, 60),\n",
    "            \"LIP\": (60, 90),\n",
    "            \"MT\": (90, 110),\n",
    "            \"IT\": (110, 120),\n",
    "            \"V4\": (120, 140),\n",
    "            \"PFC_FEF\": (0, 60),  \n",
    "            \"MT_IT_V4\": (90, 140)\n",
    "            }\n",
    "def region(data, region):\n",
    "    start, end = all_reigion[region]\n",
    "    return data[:,:,start:end]"
   ]
  },
  {
   "cell_type": "code",
   "execution_count": 18,
   "metadata": {},
   "outputs": [],
   "source": [
    "experiment_name = \"V4\"\n",
    "ncell=all_reigion[experiment_name][1]-all_reigion[experiment_name][0]"
   ]
  },
  {
   "cell_type": "code",
   "execution_count": 19,
   "metadata": {},
   "outputs": [
    {
     "data": {
      "text/plain": [
       "<All keys matched successfully>"
      ]
     },
     "execution_count": 19,
     "metadata": {},
     "output_type": "execute_result"
    }
   ],
   "source": [
    "stat_dict=torch.load(\"Model/checkpoint.only-\"+experiment_name+\".pth\")\n",
    "model=VideoUNet(input_shape=[3,32,32],ncell=ncell,hiddensize=32)\n",
    "model.load_state_dict(stat_dict)\n",
    "model=model.eval()"
   ]
  },
  {
   "cell_type": "code",
   "execution_count": null,
   "metadata": {},
   "outputs": [],
   "source": [
    "test_input_complete=torch.load(\"data/test_input\")\n",
    "test_input_region=region(test_input_complete,experiment_name)\n",
    "test_input_region=test_input_region.float()\n",
    "batch_size_test=int(test_input_region.shape[0]/64)\n",
    "model=model.to(torch.device(device))\n",
    "img_list=[]\n",
    "test_size=test_input_region.shape[0]\n",
    "with torch.no_grad():\n",
    "    for batch_idx in range(0, test_size, batch_size_test):\n",
    "        batch_test = test_input_region[batch_idx:batch_idx + batch_size_test].to(torch.device(device))\n",
    "        test_result = model(batch_test)\n",
    "        img=torch.mean(test_result,dim=0)\n",
    "        img=img.permute(1,2,3,0).to(torch.device(\"cpu\")).detach().numpy()\n",
    "        img_list.append(img)\n",
    "output_filename=\"result/\"\n",
    "for i in range (16):\n",
    "    for j in range (4):\n",
    "        imgs=img_list[i*4+j]\n",
    "        name=(output_filename+\"Train_stimuli\"+str(i)+\"_cue\"+str(j))\n",
    "        with imageio.get_writer(name+'.gif', mode='I') as writer:\n",
    "            for img in imgs:\n",
    "                writer.append_data(np.array(img*255, dtype=np.uint8))\n",
    "if len(img_list)==64:\n",
    "    print(\"success\")"
   ]
  }
 ],
 "metadata": {
  "kernelspec": {
   "display_name": "py38",
   "language": "python",
   "name": "python3"
  },
  "language_info": {
   "codemirror_mode": {
    "name": "ipython",
    "version": 3
   },
   "file_extension": ".py",
   "mimetype": "text/x-python",
   "name": "python",
   "nbconvert_exporter": "python",
   "pygments_lexer": "ipython3",
   "version": "3.8.19"
  }
 },
 "nbformat": 4,
 "nbformat_minor": 2
}
